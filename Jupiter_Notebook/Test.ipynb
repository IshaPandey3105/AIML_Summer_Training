{
 "cells": [
  {
   "cell_type": "markdown",
   "id": "745021eb",
   "metadata": {},
   "source": [
    "# Practical Test(Support Vector machine)"
   ]
  },
  {
   "cell_type": "code",
   "execution_count": 3,
   "id": "83ceecd1",
   "metadata": {},
   "outputs": [
    {
     "ename": "SyntaxError",
     "evalue": "invalid syntax. Perhaps you forgot a comma? (3030443777.py, line 13)",
     "output_type": "error",
     "traceback": [
      "  \u001b[36mCell\u001b[39m\u001b[36m \u001b[39m\u001b[32mIn[3]\u001b[39m\u001b[32m, line 13\u001b[39m\n\u001b[31m    \u001b[39m\u001b[31mX_train, X_test, y_train, y_test = train_test_split(X, Y, test _size=0.2, random_state=42)\u001b[39m\n                                                              ^\n\u001b[31mSyntaxError\u001b[39m\u001b[31m:\u001b[39m invalid syntax. Perhaps you forgot a comma?\n"
     ]
    }
   ],
   "source": [
    "import pandas as pd\n",
    "import seaborn as sns\n",
    "from sklearn.model_selection import train_test_split\n",
    "from sklearn.linear_model import LogisticRegression\n",
    "titanic = sns.load_dataset('titanic')\n",
    "print(\" Dataset Head:\\n\", titanic.head())\n",
    "print(\" Missing values:\\n\", titanic.isnull().sum())\n",
    "\n",
    "titanic.dropna(subset=['age', 'embarked', 'sex'], inplace=True)\n",
    "\n",
    "Y = titanic['survived']\n",
    "X=titanic[['pclass', 'sex', 'age']]\n",
    "X_train, X_test, y_train, y_test = train_test_split(X, Y, test _size=0.2, random_state=42)\n",
    "\n",
    "X_train= pd.get_dummies(X, columns=['sex', 'embarked'], drop_first=True)\n",
    "\n",
    "model = LogisticRegression(max_iter=1000)\n",
    "model.fit(X_train, y_train)\n",
    "model.fit()\n",
    "y_pred = model.predict(X_test)\n",
    "X_train, X_test, y_train, y_test = train_test_split(X, Y, test_size=0.2, random_state=42)\n",
    "\n",
    "print(\"\\n Accuracy Score:\", accuracy_score(y_test, y_pred))\n",
    "print(\"\\n Classification Report:\\n\", classification_report(y_test, y_pred))\n",
    "print(\"\\n Confusion Matrix:\\n\", confusion_matrix(y_test, y_pred))\n",
    "\n",
    "\n"
   ]
  },
  {
   "cell_type": "code",
   "execution_count": null,
   "id": "880af1c6",
   "metadata": {},
   "outputs": [],
   "source": []
  },
  {
   "cell_type": "code",
   "execution_count": null,
   "id": "e60781ae",
   "metadata": {},
   "outputs": [],
   "source": []
  },
  {
   "cell_type": "code",
   "execution_count": null,
   "id": "9f665922",
   "metadata": {},
   "outputs": [],
   "source": []
  },
  {
   "cell_type": "code",
   "execution_count": null,
   "id": "bfac204e",
   "metadata": {},
   "outputs": [],
   "source": []
  }
 ],
 "metadata": {
  "kernelspec": {
   "display_name": "Python 3",
   "language": "python",
   "name": "python3"
  },
  "language_info": {
   "codemirror_mode": {
    "name": "ipython",
    "version": 3
   },
   "file_extension": ".py",
   "mimetype": "text/x-python",
   "name": "python",
   "nbconvert_exporter": "python",
   "pygments_lexer": "ipython3",
   "version": "3.13.1"
  }
 },
 "nbformat": 4,
 "nbformat_minor": 5
}
