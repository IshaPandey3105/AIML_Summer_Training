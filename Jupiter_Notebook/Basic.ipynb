{
 "cells": [
  {
   "cell_type": "markdown",
   "id": "8e16d046",
   "metadata": {},
   "source": [
    "### My notes of some extra topics\n",
    "##### json module"
   ]
  },
  {
   "cell_type": "code",
   "execution_count": 1,
   "id": "834bc8a2",
   "metadata": {},
   "outputs": [
    {
     "name": "stdout",
     "output_type": "stream",
     "text": [
      "JSON String:\n",
      " {\n",
      "    \"name\": \"Alice\",\n",
      "    \"age\": 30,\n",
      "    \"isStudent\": false,\n",
      "    \"courses\": [\n",
      "        \"Math\",\n",
      "        \"Science\"\n",
      "    ]\n",
      "}\n",
      "\n",
      "Python Dictionary: {'name': 'Alice', 'age': 30, 'isStudent': False, 'courses': ['Math', 'Science']}\n"
     ]
    }
   ],
   "source": [
    "import json\n",
    "\n",
    "# Python dictionary\n",
    "data = {\n",
    "    \"name\": \"Alice\",\n",
    "    \"age\": 30,\n",
    "    \"isStudent\": False,\n",
    "    \"courses\": [\"Math\", \"Science\"]\n",
    "}\n",
    "\n",
    "# Serialize Python dictionary to JSON string\n",
    "json_string = json.dumps(data, indent=4) # indent for pretty printing\n",
    "print(\"JSON String:\\n\", json_string)\n",
    "\n",
    "# Deserialize JSON string to Python dictionary\n",
    "python_dict = json.loads(json_string)\n",
    "print(\"\\nPython Dictionary:\", python_dict)"
   ]
  },
  {
   "cell_type": "markdown",
   "id": "562dd937",
   "metadata": {},
   "source": [
    "### List comprehensions"
   ]
  },
  {
   "cell_type": "code",
   "execution_count": 3,
   "id": "0312c518",
   "metadata": {},
   "outputs": [
    {
     "name": "stdout",
     "output_type": "stream",
     "text": [
      "[0, 1, 4, 9, 16, 25, 36, 49, 64, 81]\n"
     ]
    }
   ],
   "source": [
    "squares = [x**2 for x in range(10)]\n",
    "print(squares)"
   ]
  },
  {
   "cell_type": "code",
   "execution_count": 4,
   "id": "24dea588",
   "metadata": {},
   "outputs": [
    {
     "name": "stdout",
     "output_type": "stream",
     "text": [
      "[0, 2, 4, 6, 8, 10, 12, 14, 16, 18]\n"
     ]
    }
   ],
   "source": [
    "even_numbers = [x for x in range(20) if x % 2 == 0]\n",
    "print(even_numbers)"
   ]
  },
  {
   "cell_type": "code",
   "execution_count": 6,
   "id": "52073061",
   "metadata": {},
   "outputs": [
    {
     "name": "stdout",
     "output_type": "stream",
     "text": [
      "['P', 'Y', 'T', 'H', 'O', 'N']\n"
     ]
    }
   ],
   "source": [
    "word = \"Pyt55@hon\"\n",
    "uppercase_letters = [char.upper() for char in word if char.isalpha()]\n",
    "print(uppercase_letters)  "
   ]
  },
  {
   "cell_type": "markdown",
   "id": "c3f86fd8",
   "metadata": {},
   "source": [
    "### Lambda functions"
   ]
  },
  {
   "cell_type": "code",
   "execution_count": 7,
   "id": "1b1fc5d2",
   "metadata": {},
   "outputs": [
    {
     "name": "stdout",
     "output_type": "stream",
     "text": [
      "8\n"
     ]
    }
   ],
   "source": [
    "# A lambda function to add two numbers\n",
    "add_numbers = lambda a, b: a + b\n",
    "print(add_numbers(5, 3))  # Output: 8\n"
   ]
  },
  {
   "cell_type": "code",
   "execution_count": null,
   "id": "d6fa2f94",
   "metadata": {},
   "outputs": [],
   "source": []
  }
 ],
 "metadata": {
  "kernelspec": {
   "display_name": "Python 3",
   "language": "python",
   "name": "python3"
  },
  "language_info": {
   "codemirror_mode": {
    "name": "ipython",
    "version": 3
   },
   "file_extension": ".py",
   "mimetype": "text/x-python",
   "name": "python",
   "nbconvert_exporter": "python",
   "pygments_lexer": "ipython3",
   "version": "3.13.1"
  }
 },
 "nbformat": 4,
 "nbformat_minor": 5
}
