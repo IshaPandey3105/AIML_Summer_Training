{
 "cells": [
  {
   "cell_type": "markdown",
   "id": "8e16d046",
   "metadata": {},
   "source": [
    "## My notes of some extra topics\n",
    "#### 1 -> json module"
   ]
  },
  {
   "cell_type": "code",
   "execution_count": 1,
   "id": "834bc8a2",
   "metadata": {},
   "outputs": [
    {
     "name": "stdout",
     "output_type": "stream",
     "text": [
      "JSON String:\n",
      " {\n",
      "    \"name\": \"Alice\",\n",
      "    \"age\": 30,\n",
      "    \"isStudent\": false,\n",
      "    \"courses\": [\n",
      "        \"Math\",\n",
      "        \"Science\"\n",
      "    ]\n",
      "}\n",
      "\n",
      "Python Dictionary: {'name': 'Alice', 'age': 30, 'isStudent': False, 'courses': ['Math', 'Science']}\n"
     ]
    }
   ],
   "source": [
    "import json\n",
    "\n",
    "# Python dictionary\n",
    "data = {\n",
    "    \"name\": \"Alice\",\n",
    "    \"age\": 30,\n",
    "    \"isStudent\": False,\n",
    "    \"courses\": [\"Math\", \"Science\"]\n",
    "}\n",
    "\n",
    "# Serialize Python dictionary to JSON string\n",
    "json_string = json.dumps(data, indent=4) # indent for pretty printing\n",
    "print(\"JSON String:\\n\", json_string)\n",
    "\n",
    "# Deserialize JSON string to Python dictionary\n",
    "python_dict = json.loads(json_string)\n",
    "print(\"\\nPython Dictionary:\", python_dict)"
   ]
  },
  {
   "cell_type": "markdown",
   "id": "562dd937",
   "metadata": {},
   "source": [
    "### 2 -> List comprehensions"
   ]
  },
  {
   "cell_type": "code",
   "execution_count": 3,
   "id": "0312c518",
   "metadata": {},
   "outputs": [
    {
     "name": "stdout",
     "output_type": "stream",
     "text": [
      "[0, 1, 4, 9, 16, 25, 36, 49, 64, 81]\n"
     ]
    }
   ],
   "source": [
    "squares = [x**2 for x in range(10)]\n",
    "print(squares)"
   ]
  },
  {
   "cell_type": "code",
   "execution_count": 4,
   "id": "24dea588",
   "metadata": {},
   "outputs": [
    {
     "name": "stdout",
     "output_type": "stream",
     "text": [
      "[0, 2, 4, 6, 8, 10, 12, 14, 16, 18]\n"
     ]
    }
   ],
   "source": [
    "even_numbers = [x for x in range(20) if x % 2 == 0]\n",
    "print(even_numbers)"
   ]
  },
  {
   "cell_type": "code",
   "execution_count": 6,
   "id": "52073061",
   "metadata": {},
   "outputs": [
    {
     "name": "stdout",
     "output_type": "stream",
     "text": [
      "['P', 'Y', 'T', 'H', 'O', 'N']\n"
     ]
    }
   ],
   "source": [
    "word = \"Pyt55@hon\"\n",
    "uppercase_letters = [char.upper() for char in word if char.isalpha()]\n",
    "print(uppercase_letters)  "
   ]
  },
  {
   "cell_type": "markdown",
   "id": "c3f86fd8",
   "metadata": {},
   "source": [
    "### 3 -> Lambda functions"
   ]
  },
  {
   "cell_type": "code",
   "execution_count": 7,
   "id": "1b1fc5d2",
   "metadata": {},
   "outputs": [
    {
     "name": "stdout",
     "output_type": "stream",
     "text": [
      "8\n"
     ]
    }
   ],
   "source": [
    "# A lambda function to add two numbers\n",
    "add_numbers = lambda a, b: a + b\n",
    "print(add_numbers(5, 3))  # Output: 8\n"
   ]
  },
  {
   "cell_type": "markdown",
   "id": "3229080d",
   "metadata": {},
   "source": [
    "## 4 -> Python try...except"
   ]
  },
  {
   "cell_type": "code",
   "execution_count": 9,
   "id": "d6fa2f94",
   "metadata": {},
   "outputs": [
    {
     "name": "stdout",
     "output_type": "stream",
     "text": [
      "Number entered is not an integer.\n",
      "This block is always executed.\n"
     ]
    }
   ],
   "source": [
    "try:\n",
    "    num = int(input(\"Enter an integer: \"))\n",
    "    # num=8.6\n",
    "    # num=-8.6\n",
    "except ValueError:\n",
    "    print(\"Number entered is not an integer.\")\n",
    "else:\n",
    "    print(\"Integer Accepted.\")\n",
    "finally:\n",
    "    print(\"This block is always executed.\")"
   ]
  },
  {
   "cell_type": "markdown",
   "id": "2b4bf03d",
   "metadata": {},
   "source": [
    "### 5 -> Data & Time"
   ]
  },
  {
   "cell_type": "code",
   "execution_count": 11,
   "id": "4bd8093f",
   "metadata": {},
   "outputs": [
    {
     "name": "stdout",
     "output_type": "stream",
     "text": [
      "Fri Jul 11 16:21:29 2025\n"
     ]
    }
   ],
   "source": [
    "import time\n",
    "print(time.ctime())"
   ]
  },
  {
   "cell_type": "code",
   "execution_count": 12,
   "id": "c5f72666",
   "metadata": {},
   "outputs": [
    {
     "name": "stdout",
     "output_type": "stream",
     "text": [
      "Fri Jul 11 16:22:05 2025\n"
     ]
    }
   ],
   "source": [
    "time.sleep(10)\n",
    "print(time.ctime())"
   ]
  },
  {
   "cell_type": "code",
   "execution_count": 14,
   "id": "0827377b",
   "metadata": {},
   "outputs": [
    {
     "name": "stdout",
     "output_type": "stream",
     "text": [
      "     July 2025\n",
      "Mo Tu We Th Fr Sa Su\n",
      "    1  2  3  4  5  6\n",
      " 7  8  9 10 11 12 13\n",
      "14 15 16 17 18 19 20\n",
      "21 22 23 24 25 26 27\n",
      "28 29 30 31\n",
      "\n"
     ]
    }
   ],
   "source": [
    "import calendar\n",
    "\n",
    "print(calendar.month(2025, 7))"
   ]
  },
  {
   "cell_type": "markdown",
   "id": "2ccca76b",
   "metadata": {},
   "source": [
    "## 6 -> Python PIP"
   ]
  },
  {
   "cell_type": "code",
   "execution_count": 15,
   "id": "59557a23",
   "metadata": {},
   "outputs": [],
   "source": [
    "# pip stands for Package Installer for Python. \n",
    "# It is used to install and manage software packages in Python \n",
    "# that are not part of the standard Python library.\n",
    "#  the pip command is pre-installed.\n",
    "#  Eg: pip install numpy  "
   ]
  }
 ],
 "metadata": {
  "kernelspec": {
   "display_name": "Python 3",
   "language": "python",
   "name": "python3"
  },
  "language_info": {
   "codemirror_mode": {
    "name": "ipython",
    "version": 3
   },
   "file_extension": ".py",
   "mimetype": "text/x-python",
   "name": "python",
   "nbconvert_exporter": "python",
   "pygments_lexer": "ipython3",
   "version": "3.13.1"
  }
 },
 "nbformat": 4,
 "nbformat_minor": 5
}
