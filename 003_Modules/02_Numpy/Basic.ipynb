{
 "cells": [
  {
   "cell_type": "markdown",
   "id": "b214ccc1",
   "metadata": {},
   "source": [
    "## 🧮 What is NumPy?\n",
    "###### NumPy (Numerical Python) is a library used for:\n",
    "###### Creating arrays (instead of Python lists)\n",
    "###### Doing fast mathematical operations\n",
    "###### Handling matrices and multi-dimensional data\n"
   ]
  },
  {
   "cell_type": "code",
   "execution_count": 22,
   "id": "68373e29",
   "metadata": {},
   "outputs": [
    {
     "name": "stdout",
     "output_type": "stream",
     "text": [
      "[1 2 3 4 5]\n",
      "5\n",
      "[2 3]\n"
     ]
    }
   ],
   "source": [
    "import numpy as np\n",
    "# 1D Array\n",
    "arr1=np.array([1,2,3,4,5])\n",
    "print(arr1)\n",
    "print(arr1[4])\n",
    "print(arr1[1:3])"
   ]
  },
  {
   "cell_type": "code",
   "execution_count": null,
   "id": "21032fa3",
   "metadata": {},
   "outputs": [
    {
     "name": "stdout",
     "output_type": "stream",
     "text": [
      "[[1 2 3]\n",
      " [4 5 6]]\n",
      "3\n",
      "[[ 2  4  6]\n",
      " [ 8 10 12]]\n",
      "[[ 1  4  9]\n",
      " [16 25 36]]\n"
     ]
    }
   ],
   "source": [
    "# 2D Array\n",
    "a=np.array([[1,2,3],[4,5,6]])\n",
    "b=np.array([[1,2,3],[4,5,6]])\n",
    "print(a)\n",
    "print(b)\n",
    "print(a[0][2])\n",
    "c=a+b\n",
    "print(c)\n",
    "print(a*b)"
   ]
  },
  {
   "cell_type": "code",
   "execution_count": null,
   "id": "7b6bdc2d",
   "metadata": {},
   "outputs": [
    {
     "name": "stdout",
     "output_type": "stream",
     "text": [
      "[[0. 0. 0.]\n",
      " [0. 0. 0.]]\n",
      "[[1. 1.]\n",
      " [1. 1.]\n",
      " [1. 1.]]\n",
      "[[1. 0. 0.]\n",
      " [0. 1. 0.]\n",
      " [0. 0. 1.]]\n"
     ]
    }
   ],
   "source": [
    "# Special Arrays\n",
    "print(np.zeros((2, 3)))  # 2x3 matrix of 0s\n",
    "print(np.ones((3, 2)))   # 3x2 matrix of 1s\n",
    "print(np.eye(3))         # 3x3 identity matrix"
   ]
  },
  {
   "cell_type": "code",
   "execution_count": null,
   "id": "3bfcc4d0",
   "metadata": {},
   "outputs": [
    {
     "name": "stdout",
     "output_type": "stream",
     "text": [
      "[  0.  50. 100.]\n",
      "[ 0  3  6  9 12 15 18 21 24 27 30 33 36 39 42 45 48 51 54 57 60 63 66 69\n",
      " 72 75 78 81 84 87 90 93 96 99]\n",
      "[[0.61495009 0.50323238]\n",
      " [0.2191037  0.52822125]]\n",
      "3\n",
      "[5 6 7 4 9]\n"
     ]
    }
   ],
   "source": [
    "# Useful Shortcuts\n",
    "print(np.linspace(0,100,3))  \n",
    "print(np.arange(0,100,3)) \n",
    "print(np.random.rand(2, 2))        # Random floats [0.0, 1.0)\n",
    "print(np.random.randint(1, 10))    # Random integer [1, 9]\n",
    "print(np.random.randint(1, 10, 5))     "
   ]
  },
  {
   "cell_type": "code",
   "execution_count": 7,
   "id": "e02de71c",
   "metadata": {},
   "outputs": [
    {
     "name": "stdout",
     "output_type": "stream",
     "text": [
      "[ 0.          0.20408163  0.40816327  0.6122449   0.81632653  1.02040816\n",
      "  1.2244898   1.42857143  1.63265306  1.83673469  2.04081633  2.24489796\n",
      "  2.44897959  2.65306122  2.85714286  3.06122449  3.26530612  3.46938776\n",
      "  3.67346939  3.87755102  4.08163265  4.28571429  4.48979592  4.69387755\n",
      "  4.89795918  5.10204082  5.30612245  5.51020408  5.71428571  5.91836735\n",
      "  6.12244898  6.32653061  6.53061224  6.73469388  6.93877551  7.14285714\n",
      "  7.34693878  7.55102041  7.75510204  7.95918367  8.16326531  8.36734694\n",
      "  8.57142857  8.7755102   8.97959184  9.18367347  9.3877551   9.59183673\n",
      "  9.79591837 10.        ]\n"
     ]
    }
   ],
   "source": [
    "print(np.linspace(0,10))  # if we don't mention no. of values then by default it takes 50 "
   ]
  },
  {
   "cell_type": "code",
   "execution_count": null,
   "id": "8da950d9",
   "metadata": {},
   "outputs": [
    {
     "name": "stdout",
     "output_type": "stream",
     "text": [
      "[1, 2, 3, 4, 5]\n",
      "<class 'list'>\n"
     ]
    }
   ],
   "source": [
    "# Converting array to list\n",
    "a=np.array([1,2,3,4,5])\n",
    "x=a.tolist()\n",
    "print(x)\n",
    "print(type(x))"
   ]
  },
  {
   "cell_type": "code",
   "execution_count": null,
   "id": "6e4870c5",
   "metadata": {},
   "outputs": [
    {
     "name": "stdout",
     "output_type": "stream",
     "text": [
      "5\n",
      "1\n",
      "3.0\n",
      "15\n",
      "1.4142135623730951\n",
      "[2 3 4 5 6]\n",
      "[ 1  4  9 16 25]\n",
      "[False False False  True  True]\n",
      "[4 5]\n"
     ]
    }
   ],
   "source": [
    "#Stats\n",
    "a=np.array([1,2,3,4,5])\n",
    "print(np.max(a))\n",
    "print(np.min(a))\n",
    "print(np.mean(a))\n",
    "print(np.sum(a))\n",
    "print(np.std(a))\n",
    "print(a+1)\n",
    "print(a ** 2)  \n",
    "print(a>3)   # give a boolean matrix\n",
    "print(a[a>3]) # give those values"
   ]
  },
  {
   "cell_type": "code",
   "execution_count": null,
   "id": "438b5f16",
   "metadata": {},
   "outputs": [
    {
     "name": "stdout",
     "output_type": "stream",
     "text": [
      "[[ 1  2]\n",
      " [29  3]]\n",
      "[[ 50  80]\n",
      " [350 670]]\n",
      "[[ 1 29]\n",
      " [ 2  3]]\n"
     ]
    }
   ],
   "source": [
    "A=np.array([[1,2],[29,3]])\n",
    "B=np.array([[10,20],[20,30]])\n",
    "print(A)\n",
    "print(np.dot(A,B))      # Matrix Multiplication\n",
    "print(np.transpose(A))  # Transpose"
   ]
  },
  {
   "cell_type": "code",
   "execution_count": 54,
   "id": "51a00535",
   "metadata": {},
   "outputs": [
    {
     "name": "stdout",
     "output_type": "stream",
     "text": [
      "[20 30 60]\n"
     ]
    }
   ],
   "source": [
    "# Find Number Between 20 and 100\n",
    "a=np.array([1,20,30,4,5,6,60,450])\n",
    "b=a[(a>=20) & (a<100)]\n",
    "print(b)\n"
   ]
  },
  {
   "cell_type": "code",
   "execution_count": null,
   "id": "7a899a30",
   "metadata": {},
   "outputs": [
    {
     "name": "stdout",
     "output_type": "stream",
     "text": [
      "[[1 2]\n",
      " [3 4]\n",
      " [5 6]]\n"
     ]
    }
   ],
   "source": [
    "# For making a 1D array into 2D array\n",
    "a = np.array([1, 2, 3, 4, 5, 6])\n",
    "b = a.reshape(3, 2)\n",
    "print(b)"
   ]
  },
  {
   "cell_type": "code",
   "execution_count": null,
   "id": "53ac9026",
   "metadata": {},
   "outputs": [
    {
     "name": "stdout",
     "output_type": "stream",
     "text": [
      "2\n",
      "(2, 3)\n",
      "6\n",
      "int64\n"
     ]
    }
   ],
   "source": [
    "# Array Properties\n",
    "import numpy as np\n",
    "\n",
    "arr = np.array([[10, 20, 30], [40, 50, 60]])\n",
    "\n",
    "# 1️⃣ arr.ndim → Number of Dimensions\n",
    "print(arr.ndim)   # Output: 2\n",
    "\n",
    "# 2️⃣ arr.shape → Shape (Rows, Columns)\n",
    "print(arr.shape)  # Output: (2, 3)\n",
    "\n",
    "# 3️⃣ arr.size → Total Elements in Array\n",
    "print(arr.size)   # Output: 6\n",
    "\n",
    "# 4️⃣ arr.dtype → Data Type of Elements\n",
    "print(arr.dtype)  # Output: int32 or int64 "
   ]
  },
  {
   "cell_type": "code",
   "execution_count": 76,
   "id": "55a85263",
   "metadata": {},
   "outputs": [
    {
     "name": "stdout",
     "output_type": "stream",
     "text": [
      "[[1 2 3]\n",
      " [4 5 6]\n",
      " [7 8 9]]\n",
      "Middle element of 3*3 matrix:  5\n",
      "[[ 1  4  9]\n",
      " [16 25 36]\n",
      " [49 64 81]]\n",
      "5.0\n",
      "45\n",
      "[[1. 0. 0. 0.]\n",
      " [0. 1. 0. 0.]\n",
      " [0. 0. 1. 0.]\n",
      " [0. 0. 0. 1.]]\n",
      "[[2 1]\n",
      " [3 4]]\n",
      "5.000000000000001\n",
      "[[ 0.8 -0.6]\n",
      " [-0.2  0.4]]\n"
     ]
    }
   ],
   "source": [
    "## Assignment Question\n",
    "a=np.array([[1,2,3],[4,5,6],[7,8,9]])\n",
    "b=np.array([[1,2,3],[4,5,6],[7,8,9]])\n",
    "print(a)\n",
    "print(\"Middle element of 3*3 matrix: \",a[1][1])\n",
    "print(a*b)\n",
    "print(np.mean(a))\n",
    "print(np.sum(a))\n",
    "print(np.eye(4))\n",
    "arr=np.array([[2,3],[1,4]])\n",
    "T=np.transpose(arr)\n",
    "print(T)\n",
    "D=np.linalg.det(arr)\n",
    "print(D)\n",
    "I=np.linalg.inv(arr)\n",
    "print(I)\n",
    "\n"
   ]
  },
  {
   "cell_type": "code",
   "execution_count": null,
   "id": "407da60f",
   "metadata": {},
   "outputs": [],
   "source": []
  }
 ],
 "metadata": {
  "kernelspec": {
   "display_name": "venv",
   "language": "python",
   "name": "python3"
  },
  "language_info": {
   "codemirror_mode": {
    "name": "ipython",
    "version": 3
   },
   "file_extension": ".py",
   "mimetype": "text/x-python",
   "name": "python",
   "nbconvert_exporter": "python",
   "pygments_lexer": "ipython3",
   "version": "3.13.1"
  }
 },
 "nbformat": 4,
 "nbformat_minor": 5
}
